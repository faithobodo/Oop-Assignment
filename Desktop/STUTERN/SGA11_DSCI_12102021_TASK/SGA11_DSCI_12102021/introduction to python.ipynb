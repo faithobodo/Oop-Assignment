{
 "cells": [
  {
   "cell_type": "code",
   "execution_count": null,
   "metadata": {},
   "outputs": [],
   "source": [
    "string_with_esc_char =\"Today\\n is tuesday\"\n",
    "\n",
    "string_with_tab_char =\"Today\\t is tuesday\"\n",
    "\n",
    "string_without_raw_char = \"today is tuesday\"\n",
    "\n",
    "string_with_raw_char = r\"today is tuesday\""
   ]
  },
  {
   "cell_type": "code",
   "execution_count": null,
   "metadata": {},
   "outputs": [
    {
     "name": "stdout",
     "output_type": "stream",
     "text": [
      "Today\n",
      " is tuesday\n"
     ]
    }
   ],
   "source": [
    "print(string_with_esc_char)"
   ]
  },
  {
   "cell_type": "code",
   "execution_count": null,
   "metadata": {},
   "outputs": [
    {
     "name": "stdout",
     "output_type": "stream",
     "text": [
      "Today\t is tuesday\n"
     ]
    }
   ],
   "source": [
    "print(string_with_tab_char)"
   ]
  },
  {
   "cell_type": "code",
   "execution_count": null,
   "metadata": {},
   "outputs": [
    {
     "name": "stdout",
     "output_type": "stream",
     "text": [
      "today is tuesday\n"
     ]
    }
   ],
   "source": [
    "print(string_without_raw_char)"
   ]
  },
  {
   "cell_type": "code",
   "execution_count": null,
   "metadata": {},
   "outputs": [
    {
     "name": "stdout",
     "output_type": "stream",
     "text": [
      "today is tuesday\n"
     ]
    }
   ],
   "source": [
    "print(string_with_raw_char)"
   ]
  },
  {
   "cell_type": "markdown",
   "metadata": {},
   "source": [
    "# INTRODUCTION TO PYTHON PROGRAMMING"
   ]
  },
  {
   "cell_type": "markdown",
   "metadata": {},
   "source": [
    "CONDITIONAL STATEMENT"
   ]
  },
  {
   "cell_type": "code",
   "execution_count": null,
   "metadata": {},
   "outputs": [
    {
     "data": {
      "text/plain": [
       "True"
      ]
     },
     "execution_count": 18,
     "metadata": {},
     "output_type": "execute_result"
    }
   ],
   "source": [
    "a =1\n",
    "b = \"1\"\n",
    "a == int (b)\n",
    "str(a) == b\n",
    "a !=b\n",
    "i = 5\n",
    "i"
   ]
  },
  {
   "cell_type": "markdown",
   "metadata": {},
   "source": [
    "BRANCHING"
   ]
  },
  {
   "cell_type": "code",
   "execution_count": null,
   "metadata": {},
   "outputs": [
    {
     "name": "stdout",
     "output_type": "stream",
     "text": [
      "there will be a live class\n"
     ]
    }
   ],
   "source": [
    "# if statement \n",
    "\n",
    "today = \"friday\"\n",
    "if today in [\"tuesday\",\"friday\"]:\n",
    "\n",
    "    print(\"there will be a live class\")"
   ]
  },
  {
   "cell_type": "code",
   "execution_count": 40,
   "metadata": {},
   "outputs": [
    {
     "name": "stdout",
     "output_type": "stream",
     "text": [
      "thursday\n",
      "thursday:there is no class today\n"
     ]
    }
   ],
   "source": [
    "today = input()\n",
    "print(today)\n",
    "if (today ==\"tuesday\") | (today ==\"friday\"):\n",
    "    print(today+\" \"+\"there will be a live class\")\n",
    "else:\n",
    "    print(today+\":\"+\"there is no class today\")    "
   ]
  },
  {
   "cell_type": "code",
   "execution_count": 45,
   "metadata": {},
   "outputs": [
    {
     "name": "stdout",
     "output_type": "stream",
     "text": [
      "thursday: there is no class today\n"
     ]
    }
   ],
   "source": [
    "# elif\n",
    "today = input()\n",
    "\n",
    "if (today ==\"tuesday\") | (today ==\"friday\"):\n",
    "\n",
    "    print(today+\" \"+\"there will be a live class\")\n",
    "elif today == \"friday\":\n",
    "    print(\"there will be a live class today\")\n",
    "else:\n",
    "    print(today+\":\"+\" \"+\"there is no class today\")  "
   ]
  },
  {
   "cell_type": "code",
   "execution_count": 58,
   "metadata": {},
   "outputs": [
    {
     "name": "stdout",
     "output_type": "stream",
     "text": [
      "there will be a live class on tuesday and friday\n"
     ]
    }
   ],
   "source": [
    "# elif with f string\n",
    "today = input()\n",
    "another_day = \"friday\"\n",
    "\n",
    "if today == \"tuesday\":\n",
    "\n",
    "    print(f\"there will be a live class on {today} and {another_day}\",)\n",
    "elif today == \"friday\":\n",
    "    print(\"there will be a live class today\")\n",
    "else:\n",
    "    print(today+\":\"+\" \"+\"there is no class today\")"
   ]
  }
 ],
 "metadata": {
  "interpreter": {
   "hash": "7f3660a6737753f4dd4cd2b76015a4874a4e0ef5ee41d88f9dd9efe93453b777"
  },
  "kernelspec": {
   "display_name": "Python 3.9.7 64-bit ('SGA11_DSCI_1210202_TASK': venv)",
   "name": "python3"
  },
  "language_info": {
   "codemirror_mode": {
    "name": "ipython",
    "version": 3
   },
   "file_extension": ".py",
   "mimetype": "text/x-python",
   "name": "python",
   "nbconvert_exporter": "python",
   "pygments_lexer": "ipython3",
   "version": "3.9.7"
  },
  "orig_nbformat": 4
 },
 "nbformat": 4,
 "nbformat_minor": 2
}
