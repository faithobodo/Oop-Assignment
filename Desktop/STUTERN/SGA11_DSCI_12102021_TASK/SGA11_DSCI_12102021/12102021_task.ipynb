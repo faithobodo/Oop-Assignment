{
 "cells": [
  {
   "cell_type": "markdown",
   "metadata": {},
   "source": [
    "# QUESTION 1"
   ]
  },
  {
   "cell_type": "code",
   "execution_count": 12,
   "metadata": {},
   "outputs": [
    {
     "name": "stdout",
     "output_type": "stream",
     "text": [
      "This album is Amazing\n"
     ]
    }
   ],
   "source": [
    "#name_of_album = back_in_black\n",
    "rating_of_back_in_black = 8.5\n",
    "rating_of_the_album =8.2\n",
    "if rating_of_back_in_black > 8:\n",
    "    print(\"This album is Amazing\")"
   ]
  },
  {
   "cell_type": "code",
   "execution_count": 13,
   "metadata": {},
   "outputs": [
    {
     "name": "stdout",
     "output_type": "stream",
     "text": [
      "the album is ok\n"
     ]
    }
   ],
   "source": [
    "rating_of_the_album = 7.9\n",
    "if rating_of_the_album > 8:\n",
    "        print(\"this album is amazing\")\n",
    "else:\n",
    "    if rating_of_the_album < 8:\n",
    "        print(\"the album is ok\")"
   ]
  },
  {
   "cell_type": "markdown",
   "metadata": {},
   "source": [
    "## testing the f function"
   ]
  },
  {
   "cell_type": "code",
   "execution_count": 46,
   "metadata": {},
   "outputs": [
    {
     "name": "stdout",
     "output_type": "stream",
     "text": [
      "correct.\n"
     ]
    }
   ],
   "source": [
    "def f(a,b):\n",
    "    return a*b\n",
    "a = 4\n",
    "b = 2\n",
    "if a*b ==f(a,b):\n",
    "    print(\"correct.\")\n",
    "else:\n",
    "    print(\"incorrect.\")\n"
   ]
  },
  {
   "cell_type": "markdown",
   "metadata": {},
   "source": [
    "## testing the g function"
   ]
  },
  {
   "cell_type": "code",
   "execution_count": 50,
   "metadata": {},
   "outputs": [
    {
     "name": "stdout",
     "output_type": "stream",
     "text": [
      "correct.\n"
     ]
    }
   ],
   "source": [
    "c =[1,2,3,4,5]\n",
    "def g(c):\n",
    "    return sum(c)\n",
    "if sum(c)==g(c):\n",
    "        print(\"correct.\")\n",
    "else:\n",
    "    print(\"incorrect.\")"
   ]
  }
 ],
 "metadata": {
  "interpreter": {
   "hash": "7f3660a6737753f4dd4cd2b76015a4874a4e0ef5ee41d88f9dd9efe93453b777"
  },
  "kernelspec": {
   "display_name": "Python 3.9.7 64-bit ('SGA11_DSCI_1210202_TASK': venv)",
   "name": "python3"
  },
  "language_info": {
   "codemirror_mode": {
    "name": "ipython",
    "version": 3
   },
   "file_extension": ".py",
   "mimetype": "text/x-python",
   "name": "python",
   "nbconvert_exporter": "python",
   "pygments_lexer": "ipython3",
   "version": "3.9.7"
  },
  "orig_nbformat": 4
 },
 "nbformat": 4,
 "nbformat_minor": 2
}
