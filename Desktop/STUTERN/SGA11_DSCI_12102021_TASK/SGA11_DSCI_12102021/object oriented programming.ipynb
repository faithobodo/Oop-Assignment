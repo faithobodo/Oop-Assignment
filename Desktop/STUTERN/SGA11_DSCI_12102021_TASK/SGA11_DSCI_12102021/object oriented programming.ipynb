{
 "cells": [
  {
   "cell_type": "markdown",
   "metadata": {},
   "source": [
    "# FUNCTIONS"
   ]
  },
  {
   "cell_type": "code",
   "execution_count": 20,
   "metadata": {},
   "outputs": [],
   "source": [
    "def print_object_with_optional_param(a = \"tuesday\"):\n",
    "    print(a)\n",
    "\n",
    "    print_input_optional_param(\"friday\")"
   ]
  }
 ],
 "metadata": {
  "interpreter": {
   "hash": "7f3660a6737753f4dd4cd2b76015a4874a4e0ef5ee41d88f9dd9efe93453b777"
  },
  "kernelspec": {
   "display_name": "Python 3.9.7 64-bit ('SGA11_DSCI_1210202_TASK': venv)",
   "name": "python3"
  },
  "language_info": {
   "codemirror_mode": {
    "name": "ipython",
    "version": 3
   },
   "file_extension": ".py",
   "mimetype": "text/x-python",
   "name": "python",
   "nbconvert_exporter": "python",
   "pygments_lexer": "ipython3",
   "version": "3.9.7"
  },
  "orig_nbformat": 4
 },
 "nbformat": 4,
 "nbformat_minor": 2
}
